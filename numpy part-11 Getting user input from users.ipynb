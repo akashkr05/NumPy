{
 "cells": [
  {
   "cell_type": "code",
   "execution_count": 1,
   "id": "2557b5af",
   "metadata": {},
   "outputs": [],
   "source": [
    "import numpy as np\n"
   ]
  },
  {
   "cell_type": "markdown",
   "id": "82d1bf56",
   "metadata": {},
   "source": [
    "# using for loop to getting input from users for 1D array"
   ]
  },
  {
   "cell_type": "code",
   "execution_count": 2,
   "id": "ddce1759",
   "metadata": {},
   "outputs": [
    {
     "name": "stdout",
     "output_type": "stream",
     "text": [
      "Enter no. of Element:2\n",
      "Enter Element1\n",
      "Enter Element2\n",
      "[1 2]\n"
     ]
    }
   ],
   "source": [
    "n = int(input(\"Enter no. of Element:\"))\n",
    "a = np.zeros(n, dtype = int)\n",
    "for i in range(len(a)):\n",
    "    x = int(input(\"Enter Element\"))\n",
    "    a[i]=x\n",
    "print(a)"
   ]
  },
  {
   "cell_type": "markdown",
   "id": "152bb7e4",
   "metadata": {},
   "source": [
    "# using while loop to getting input from users for 1D array"
   ]
  },
  {
   "cell_type": "code",
   "execution_count": 5,
   "id": "991c88d9",
   "metadata": {},
   "outputs": [
    {
     "name": "stdout",
     "output_type": "stream",
     "text": [
      "Enter no. of Elements:2\n",
      "Enter Element:1\n",
      "Enter Element:2\n",
      "1\n",
      "2\n"
     ]
    }
   ],
   "source": [
    "n = int(input(\"Enter no. of Elements:\"))\n",
    "a = np.zeros(n, dtype = int)\n",
    "u = len(a)\n",
    "i = 0\n",
    "j = 0\n",
    "while i<u:\n",
    "    x = int(input(\"Enter Element:\"))\n",
    "    a[i] = x\n",
    "    i+=1\n",
    "    \n",
    "while j<len(a):\n",
    "    print(a[j])\n",
    "    j+=1"
   ]
  },
  {
   "cell_type": "code",
   "execution_count": null,
   "id": "8a203e4b",
   "metadata": {},
   "outputs": [],
   "source": []
  }
 ],
 "metadata": {
  "kernelspec": {
   "display_name": "Python 3 (ipykernel)",
   "language": "python",
   "name": "python3"
  },
  "language_info": {
   "codemirror_mode": {
    "name": "ipython",
    "version": 3
   },
   "file_extension": ".py",
   "mimetype": "text/x-python",
   "name": "python",
   "nbconvert_exporter": "python",
   "pygments_lexer": "ipython3",
   "version": "3.9.12"
  }
 },
 "nbformat": 4,
 "nbformat_minor": 5
}
