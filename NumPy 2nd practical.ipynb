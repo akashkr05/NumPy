{
 "cells": [
  {
   "cell_type": "code",
   "execution_count": 2,
   "id": "1ac53427",
   "metadata": {},
   "outputs": [],
   "source": [
    "import numpy as np"
   ]
  },
  {
   "cell_type": "code",
   "execution_count": 3,
   "id": "4f36cf7c",
   "metadata": {},
   "outputs": [],
   "source": [
    "# create 1's matrix"
   ]
  },
  {
   "cell_type": "code",
   "execution_count": 8,
   "id": "4bfe3a02",
   "metadata": {},
   "outputs": [
    {
     "name": "stdout",
     "output_type": "stream",
     "text": [
      "[[1 1 1]\n",
      " [1 1 1]\n",
      " [1 1 1]]\n"
     ]
    }
   ],
   "source": [
    "mx_1s = np.array([[1,1,1], [1,1,1], [1,1,1]])\n",
    "print(mx_1s)"
   ]
  },
  {
   "cell_type": "code",
   "execution_count": 30,
   "id": "92174e71",
   "metadata": {},
   "outputs": [
    {
     "name": "stdout",
     "output_type": "stream",
     "text": [
      "2\n"
     ]
    }
   ],
   "source": [
    "print(mx_1s.ndim)"
   ]
  },
  {
   "cell_type": "code",
   "execution_count": 28,
   "id": "b8ceefeb",
   "metadata": {},
   "outputs": [
    {
     "name": "stdout",
     "output_type": "stream",
     "text": [
      "int32\n"
     ]
    }
   ],
   "source": [
    "print(mx_1s.dtype)"
   ]
  },
  {
   "cell_type": "code",
   "execution_count": 13,
   "id": "cceb2742",
   "metadata": {},
   "outputs": [],
   "source": [
    "# Example 2nd :- create 1's matrix without take elemment"
   ]
  },
  {
   "cell_type": "code",
   "execution_count": 14,
   "id": "0692e4ce",
   "metadata": {},
   "outputs": [
    {
     "name": "stdout",
     "output_type": "stream",
     "text": [
      "[1. 1. 1. 1. 1.]\n"
     ]
    }
   ],
   "source": [
    "mx_1s = np.ones(5)\n",
    "print(mx_1s)"
   ]
  },
  {
   "cell_type": "code",
   "execution_count": 25,
   "id": "fb94611c",
   "metadata": {},
   "outputs": [
    {
     "name": "stdout",
     "output_type": "stream",
     "text": [
      "int32\n"
     ]
    }
   ],
   "source": [
    "print(mx_1s.dtype)"
   ]
  },
  {
   "cell_type": "code",
   "execution_count": 26,
   "id": "5cf208f9",
   "metadata": {},
   "outputs": [
    {
     "name": "stdout",
     "output_type": "stream",
     "text": [
      "2\n"
     ]
    }
   ],
   "source": [
    "print(mx_1s.ndim)"
   ]
  },
  {
   "cell_type": "code",
   "execution_count": 17,
   "id": "07772853",
   "metadata": {},
   "outputs": [],
   "source": [
    "# Example 3"
   ]
  },
  {
   "cell_type": "code",
   "execution_count": 20,
   "id": "6be51613",
   "metadata": {},
   "outputs": [
    {
     "name": "stdout",
     "output_type": "stream",
     "text": [
      "[[1. 1. 1. 1.]\n",
      " [1. 1. 1. 1.]\n",
      " [1. 1. 1. 1.]]\n"
     ]
    }
   ],
   "source": [
    "mx_1s = np.ones((3, 4))\n",
    "print(mx_1s)"
   ]
  },
  {
   "cell_type": "code",
   "execution_count": 27,
   "id": "396bc779",
   "metadata": {},
   "outputs": [
    {
     "name": "stdout",
     "output_type": "stream",
     "text": [
      "int32\n"
     ]
    }
   ],
   "source": [
    "print(mx_1s.dtype)"
   ]
  },
  {
   "cell_type": "code",
   "execution_count": 22,
   "id": "2e1901e8",
   "metadata": {},
   "outputs": [],
   "source": [
    "# create matrix in integer form"
   ]
  },
  {
   "cell_type": "code",
   "execution_count": 23,
   "id": "26f13512",
   "metadata": {},
   "outputs": [
    {
     "name": "stdout",
     "output_type": "stream",
     "text": [
      "[[1 1 1 1]\n",
      " [1 1 1 1]\n",
      " [1 1 1 1]]\n"
     ]
    }
   ],
   "source": [
    "mx_1s = np.ones([3,4], dtype = int)\n",
    "print(mx_1s)"
   ]
  },
  {
   "cell_type": "code",
   "execution_count": 24,
   "id": "f4155f7a",
   "metadata": {},
   "outputs": [
    {
     "name": "stdout",
     "output_type": "stream",
     "text": [
      "[[1 1 1 1]\n",
      " [1 1 1 1]\n",
      " [1 1 1 1]]\n"
     ]
    }
   ],
   "source": [
    "mx_1s = np.ones((3,4), dtype = int)\n",
    "print(mx_1s)"
   ]
  },
  {
   "cell_type": "code",
   "execution_count": 31,
   "id": "85431752",
   "metadata": {},
   "outputs": [
    {
     "name": "stdout",
     "output_type": "stream",
     "text": [
      "int32\n"
     ]
    }
   ],
   "source": [
    "print(mx_1s.dtype)"
   ]
  },
  {
   "cell_type": "code",
   "execution_count": 32,
   "id": "279bbaf2",
   "metadata": {},
   "outputs": [],
   "source": [
    "# create zeros matrix"
   ]
  },
  {
   "cell_type": "code",
   "execution_count": 38,
   "id": "1bd2b2d4",
   "metadata": {},
   "outputs": [
    {
     "name": "stdout",
     "output_type": "stream",
     "text": [
      "[[0. 0. 0.]\n",
      " [0. 0. 0.]\n",
      " [0. 0. 0.]]\n"
     ]
    }
   ],
   "source": [
    "mx_os = np.zeros((3,3))\n",
    "print(mx_os)"
   ]
  },
  {
   "cell_type": "code",
   "execution_count": 39,
   "id": "c5057074",
   "metadata": {},
   "outputs": [],
   "source": [
    "# Matrix convert into boolean"
   ]
  },
  {
   "cell_type": "code",
   "execution_count": 41,
   "id": "20f68fb0",
   "metadata": {},
   "outputs": [
    {
     "name": "stdout",
     "output_type": "stream",
     "text": [
      "[[False False False]\n",
      " [False False False]\n",
      " [False False False]]\n"
     ]
    }
   ],
   "source": [
    "mx_os = np.zeros((3,3), dtype = bool)\n",
    "print(mx_os)  # 0 = false"
   ]
  },
  {
   "cell_type": "code",
   "execution_count": 42,
   "id": "3aedad2b",
   "metadata": {},
   "outputs": [],
   "source": [
    "# Matrix convert into string"
   ]
  },
  {
   "cell_type": "code",
   "execution_count": 44,
   "id": "e4551104",
   "metadata": {},
   "outputs": [
    {
     "name": "stdout",
     "output_type": "stream",
     "text": [
      "[['' '' '']\n",
      " ['' '' '']\n",
      " ['' '' '']]\n"
     ]
    }
   ],
   "source": [
    "mx_os = np.zeros((3,3), dtype = str)\n",
    "print(mx_os)  # ' ' = false "
   ]
  },
  {
   "cell_type": "code",
   "execution_count": 46,
   "id": "13e94688",
   "metadata": {},
   "outputs": [
    {
     "data": {
      "text/plain": [
       "' '"
      ]
     },
     "execution_count": 46,
     "metadata": {},
     "output_type": "execute_result"
    }
   ],
   "source": [
    "em_str = ' '\n",
    "(em_str)"
   ]
  },
  {
   "cell_type": "code",
   "execution_count": 47,
   "id": "bab6cc1c",
   "metadata": {},
   "outputs": [],
   "source": [
    "# create en empty matrix"
   ]
  },
  {
   "cell_type": "code",
   "execution_count": 57,
   "id": "403b4a50",
   "metadata": {},
   "outputs": [
    {
     "name": "stdout",
     "output_type": "stream",
     "text": [
      "[[0. 0. 0.]\n",
      " [0. 0. 0.]\n",
      " [0. 0. 0.]]\n"
     ]
    }
   ],
   "source": [
    "em_mx = np.empty((3,3))\n",
    "print((em_mx))"
   ]
  },
  {
   "cell_type": "code",
   "execution_count": null,
   "id": "2494b19d",
   "metadata": {},
   "outputs": [],
   "source": []
  }
 ],
 "metadata": {
  "kernelspec": {
   "display_name": "Python 3 (ipykernel)",
   "language": "python",
   "name": "python3"
  },
  "language_info": {
   "codemirror_mode": {
    "name": "ipython",
    "version": 3
   },
   "file_extension": ".py",
   "mimetype": "text/x-python",
   "name": "python",
   "nbconvert_exporter": "python",
   "pygments_lexer": "ipython3",
   "version": "3.9.12"
  }
 },
 "nbformat": 4,
 "nbformat_minor": 5
}
