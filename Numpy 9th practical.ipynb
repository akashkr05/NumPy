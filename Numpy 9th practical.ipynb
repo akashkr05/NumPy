{
 "cells": [
  {
   "cell_type": "markdown",
   "id": "64552cd5",
   "metadata": {},
   "source": [
    "# String Operation, comparison and information"
   ]
  },
  {
   "cell_type": "markdown",
   "id": "8285045d",
   "metadata": {},
   "source": [
    "# string operation"
   ]
  },
  {
   "cell_type": "code",
   "execution_count": 1,
   "id": "955abbf4",
   "metadata": {},
   "outputs": [],
   "source": [
    "import numpy as np"
   ]
  },
  {
   "cell_type": "code",
   "execution_count": 2,
   "id": "cb02a59f",
   "metadata": {},
   "outputs": [
    {
     "name": "stdout",
     "output_type": "stream",
     "text": [
      "Hello India \n",
      "welcome to numpy package\n"
     ]
    }
   ],
   "source": [
    "str1 = \"Hello India \"\n",
    "str2 = \"welcome to numpy package\"\n",
    "print(str1)\n",
    "print(str2)"
   ]
  },
  {
   "cell_type": "code",
   "execution_count": 3,
   "id": "e915bda7",
   "metadata": {},
   "outputs": [
    {
     "data": {
      "text/plain": [
       "array('Hello India welcome to numpy package', dtype='<U36')"
      ]
     },
     "execution_count": 3,
     "metadata": {},
     "output_type": "execute_result"
    }
   ],
   "source": [
    "np.char.add(str1, str2)"
   ]
  },
  {
   "cell_type": "code",
   "execution_count": 4,
   "id": "574bde98",
   "metadata": {},
   "outputs": [
    {
     "data": {
      "text/plain": [
       "array('Hello India Hello India Hello India ', dtype='<U36')"
      ]
     },
     "execution_count": 4,
     "metadata": {},
     "output_type": "execute_result"
    }
   ],
   "source": [
    "np.char.multiply(str1, 3)"
   ]
  },
  {
   "cell_type": "code",
   "execution_count": 5,
   "id": "5b472299",
   "metadata": {},
   "outputs": [
    {
     "data": {
      "text/plain": [
       "array('HELLO INDIA ', dtype='<U12')"
      ]
     },
     "execution_count": 5,
     "metadata": {},
     "output_type": "execute_result"
    }
   ],
   "source": [
    "np.char.upper(str1)"
   ]
  },
  {
   "cell_type": "code",
   "execution_count": 6,
   "id": "19ae295a",
   "metadata": {},
   "outputs": [
    {
     "data": {
      "text/plain": [
       "array('WELCOME TO NUMPY PACKAGE', dtype='<U24')"
      ]
     },
     "execution_count": 6,
     "metadata": {},
     "output_type": "execute_result"
    }
   ],
   "source": [
    "np.char.upper(str2)"
   ]
  },
  {
   "cell_type": "code",
   "execution_count": 7,
   "id": "06ec6ec3",
   "metadata": {},
   "outputs": [
    {
     "data": {
      "text/plain": [
       "array('hello india ', dtype='<U12')"
      ]
     },
     "execution_count": 7,
     "metadata": {},
     "output_type": "execute_result"
    }
   ],
   "source": [
    "np.char.lower(str1)"
   ]
  },
  {
   "cell_type": "code",
   "execution_count": 8,
   "id": "9c21f635",
   "metadata": {},
   "outputs": [
    {
     "data": {
      "text/plain": [
       "array('welcome to numpy package', dtype='<U24')"
      ]
     },
     "execution_count": 8,
     "metadata": {},
     "output_type": "execute_result"
    }
   ],
   "source": [
    "np.char.lower(str2)"
   ]
  },
  {
   "cell_type": "code",
   "execution_count": 9,
   "id": "123f2f55",
   "metadata": {},
   "outputs": [
    {
     "data": {
      "text/plain": [
       "array('Hello India ', dtype='<U12')"
      ]
     },
     "execution_count": 9,
     "metadata": {},
     "output_type": "execute_result"
    }
   ],
   "source": [
    "np.char.title(str1)"
   ]
  },
  {
   "cell_type": "code",
   "execution_count": 10,
   "id": "322eba14",
   "metadata": {},
   "outputs": [
    {
     "data": {
      "text/plain": [
       "array('Welcome To Numpy Package', dtype='<U24')"
      ]
     },
     "execution_count": 10,
     "metadata": {},
     "output_type": "execute_result"
    }
   ],
   "source": [
    "np.char.title(str2)"
   ]
  },
  {
   "cell_type": "code",
   "execution_count": 11,
   "id": "7f2a2ca5",
   "metadata": {},
   "outputs": [
    {
     "data": {
      "text/plain": [
       "array('Hello india ', dtype='<U12')"
      ]
     },
     "execution_count": 11,
     "metadata": {},
     "output_type": "execute_result"
    }
   ],
   "source": [
    "np.char.capitalize(str1)"
   ]
  },
  {
   "cell_type": "code",
   "execution_count": 12,
   "id": "780979fc",
   "metadata": {},
   "outputs": [
    {
     "data": {
      "text/plain": [
       "array('Welcome to numpy package', dtype='<U24')"
      ]
     },
     "execution_count": 12,
     "metadata": {},
     "output_type": "execute_result"
    }
   ],
   "source": [
    "np.char.capitalize(str2)"
   ]
  },
  {
   "cell_type": "code",
   "execution_count": 13,
   "id": "7e212529",
   "metadata": {},
   "outputs": [
    {
     "data": {
      "text/plain": [
       "array('              Hello India               ', dtype='<U40')"
      ]
     },
     "execution_count": 13,
     "metadata": {},
     "output_type": "execute_result"
    }
   ],
   "source": [
    "np.char.center(str1, 40)"
   ]
  },
  {
   "cell_type": "code",
   "execution_count": 48,
   "id": "7232c9c5",
   "metadata": {},
   "outputs": [
    {
     "data": {
      "text/plain": [
       "array('############################################Hello India ############################################',\n",
       "      dtype='<U100')"
      ]
     },
     "execution_count": 48,
     "metadata": {},
     "output_type": "execute_result"
    }
   ],
   "source": [
    "np.char.center(str1, 100, fillchar = \"#\")"
   ]
  },
  {
   "cell_type": "code",
   "execution_count": 49,
   "id": "446a8393",
   "metadata": {},
   "outputs": [
    {
     "data": {
      "text/plain": [
       "array(list(['Hello', 'India']), dtype=object)"
      ]
     },
     "execution_count": 49,
     "metadata": {},
     "output_type": "execute_result"
    }
   ],
   "source": [
    "np.char.split(str1)"
   ]
  },
  {
   "cell_type": "code",
   "execution_count": 50,
   "id": "0155470f",
   "metadata": {},
   "outputs": [
    {
     "data": {
      "text/plain": [
       "array(list(['welcome', 'to', 'numpy', 'package']), dtype=object)"
      ]
     },
     "execution_count": 50,
     "metadata": {},
     "output_type": "execute_result"
    }
   ],
   "source": [
    "np.char.split(str2)"
   ]
  },
  {
   "cell_type": "code",
   "execution_count": 17,
   "id": "a17f3938",
   "metadata": {},
   "outputs": [],
   "source": [
    "x = \"Hello\\nWorld\""
   ]
  },
  {
   "cell_type": "code",
   "execution_count": 18,
   "id": "b2d965a4",
   "metadata": {},
   "outputs": [
    {
     "data": {
      "text/plain": [
       "array(list(['Hello', 'World']), dtype=object)"
      ]
     },
     "execution_count": 18,
     "metadata": {},
     "output_type": "execute_result"
    }
   ],
   "source": [
    "np.char.splitlines(x)"
   ]
  },
  {
   "cell_type": "code",
   "execution_count": 19,
   "id": "22265f55",
   "metadata": {},
   "outputs": [
    {
     "data": {
      "text/plain": [
       "array(list(['hello\\\\world']), dtype=object)"
      ]
     },
     "execution_count": 19,
     "metadata": {},
     "output_type": "execute_result"
    }
   ],
   "source": [
    "x = \"hello\\world\"\n",
    "np.char.splitlines(x)"
   ]
  },
  {
   "cell_type": "code",
   "execution_count": 20,
   "id": "3318db37",
   "metadata": {},
   "outputs": [
    {
     "name": "stdout",
     "output_type": "stream",
     "text": [
      "Hello India \n"
     ]
    }
   ],
   "source": [
    "print(str1)"
   ]
  },
  {
   "cell_type": "code",
   "execution_count": 21,
   "id": "d19bf23f",
   "metadata": {},
   "outputs": [
    {
     "data": {
      "text/plain": [
       "array('Hello world ', dtype='<U12')"
      ]
     },
     "execution_count": 21,
     "metadata": {},
     "output_type": "execute_result"
    }
   ],
   "source": [
    "np.char.replace(str1, \"India\", \"world\")"
   ]
  },
  {
   "cell_type": "code",
   "execution_count": 22,
   "id": "d509eaa5",
   "metadata": {},
   "outputs": [],
   "source": [
    "x = \"tom\"\n",
    "y = \"jerry\""
   ]
  },
  {
   "cell_type": "code",
   "execution_count": 23,
   "id": "954b2fff",
   "metadata": {},
   "outputs": [
    {
     "data": {
      "text/plain": [
       "array(['t:o:m', 'j*e*r*r*y'], dtype='<U9')"
      ]
     },
     "execution_count": 23,
     "metadata": {},
     "output_type": "execute_result"
    }
   ],
   "source": [
    "np.char.join([\":\", \"*\"], [x, y])"
   ]
  },
  {
   "cell_type": "markdown",
   "id": "94dd6ae7",
   "metadata": {},
   "source": [
    "# Comparison string using numpy"
   ]
  },
  {
   "cell_type": "code",
   "execution_count": 24,
   "id": "9fe9f938",
   "metadata": {},
   "outputs": [],
   "source": [
    "x = \"dmy\"\n",
    "y = \"dmy\""
   ]
  },
  {
   "cell_type": "code",
   "execution_count": 25,
   "id": "dc6312d8",
   "metadata": {},
   "outputs": [
    {
     "data": {
      "text/plain": [
       "array(True)"
      ]
     },
     "execution_count": 25,
     "metadata": {},
     "output_type": "execute_result"
    }
   ],
   "source": [
    "np.char.equal(x, y)"
   ]
  },
  {
   "cell_type": "code",
   "execution_count": 26,
   "id": "808e4c41",
   "metadata": {},
   "outputs": [
    {
     "data": {
      "text/plain": [
       "array(False)"
      ]
     },
     "execution_count": 26,
     "metadata": {},
     "output_type": "execute_result"
    }
   ],
   "source": [
    "np.char.not_equal(x, y)"
   ]
  },
  {
   "cell_type": "code",
   "execution_count": 27,
   "id": "f6965459",
   "metadata": {},
   "outputs": [
    {
     "data": {
      "text/plain": [
       "array(False)"
      ]
     },
     "execution_count": 27,
     "metadata": {},
     "output_type": "execute_result"
    }
   ],
   "source": [
    "np.char.greater(x, y)"
   ]
  },
  {
   "cell_type": "code",
   "execution_count": 28,
   "id": "00919482",
   "metadata": {},
   "outputs": [
    {
     "data": {
      "text/plain": [
       "array(False)"
      ]
     },
     "execution_count": 28,
     "metadata": {},
     "output_type": "execute_result"
    }
   ],
   "source": [
    "np.char.less(x, y)"
   ]
  },
  {
   "cell_type": "code",
   "execution_count": 29,
   "id": "716b6dcd",
   "metadata": {},
   "outputs": [],
   "source": [
    "x = \"tom\"\n",
    "y = \"jerry\""
   ]
  },
  {
   "cell_type": "code",
   "execution_count": 30,
   "id": "451745a9",
   "metadata": {},
   "outputs": [
    {
     "data": {
      "text/plain": [
       "array(True)"
      ]
     },
     "execution_count": 30,
     "metadata": {},
     "output_type": "execute_result"
    }
   ],
   "source": [
    "np.char.less(y, x)"
   ]
  },
  {
   "cell_type": "code",
   "execution_count": 31,
   "id": "2ad62446",
   "metadata": {},
   "outputs": [
    {
     "data": {
      "text/plain": [
       "array(True)"
      ]
     },
     "execution_count": 31,
     "metadata": {},
     "output_type": "execute_result"
    }
   ],
   "source": [
    "np.char.greater_equal(x,y)"
   ]
  },
  {
   "cell_type": "code",
   "execution_count": 32,
   "id": "7a5cfa5b",
   "metadata": {},
   "outputs": [
    {
     "data": {
      "text/plain": [
       "array(False)"
      ]
     },
     "execution_count": 32,
     "metadata": {},
     "output_type": "execute_result"
    }
   ],
   "source": [
    "np.char.less_equal(x, y)"
   ]
  },
  {
   "cell_type": "markdown",
   "id": "242c5466",
   "metadata": {},
   "source": [
    "# String information "
   ]
  },
  {
   "cell_type": "code",
   "execution_count": 33,
   "id": "4da39ee9",
   "metadata": {},
   "outputs": [
    {
     "name": "stdout",
     "output_type": "stream",
     "text": [
      "Hello India \n",
      "welcome to numpy package\n"
     ]
    }
   ],
   "source": [
    "print(str1)\n",
    "print(str2)"
   ]
  },
  {
   "cell_type": "code",
   "execution_count": 34,
   "id": "07b6ae31",
   "metadata": {},
   "outputs": [
    {
     "data": {
      "text/plain": [
       "array(False)"
      ]
     },
     "execution_count": 34,
     "metadata": {},
     "output_type": "execute_result"
    }
   ],
   "source": [
    "np.char.isupper(str1)"
   ]
  },
  {
   "cell_type": "code",
   "execution_count": 35,
   "id": "0deafec8",
   "metadata": {},
   "outputs": [
    {
     "data": {
      "text/plain": [
       "array(True)"
      ]
     },
     "execution_count": 35,
     "metadata": {},
     "output_type": "execute_result"
    }
   ],
   "source": [
    "np.char.islower(str2)"
   ]
  },
  {
   "cell_type": "code",
   "execution_count": 36,
   "id": "42e8af42",
   "metadata": {},
   "outputs": [
    {
     "data": {
      "text/plain": [
       "array(True)"
      ]
     },
     "execution_count": 36,
     "metadata": {},
     "output_type": "execute_result"
    }
   ],
   "source": [
    "np.char.endswith(str1, \" \")"
   ]
  },
  {
   "cell_type": "code",
   "execution_count": 37,
   "id": "88140c96",
   "metadata": {},
   "outputs": [
    {
     "data": {
      "text/plain": [
       "array(True)"
      ]
     },
     "execution_count": 37,
     "metadata": {},
     "output_type": "execute_result"
    }
   ],
   "source": [
    "np.char.startswith(str1, \"He\")"
   ]
  },
  {
   "cell_type": "code",
   "execution_count": 38,
   "id": "c8890cc3",
   "metadata": {},
   "outputs": [
    {
     "data": {
      "text/plain": [
       "array(9)"
      ]
     },
     "execution_count": 38,
     "metadata": {},
     "output_type": "execute_result"
    }
   ],
   "source": [
    "np.char.find(str1, \"i\")"
   ]
  },
  {
   "cell_type": "code",
   "execution_count": 39,
   "id": "ea5f18ef",
   "metadata": {},
   "outputs": [
    {
     "data": {
      "text/plain": [
       "array(23)"
      ]
     },
     "execution_count": 39,
     "metadata": {},
     "output_type": "execute_result"
    }
   ],
   "source": [
    "np.char.rfind(str2, \"e\")"
   ]
  },
  {
   "cell_type": "code",
   "execution_count": 40,
   "id": "023b580b",
   "metadata": {},
   "outputs": [
    {
     "data": {
      "text/plain": [
       "array(3)"
      ]
     },
     "execution_count": 40,
     "metadata": {},
     "output_type": "execute_result"
    }
   ],
   "source": [
    "np.char.count(str2, \"e\")"
   ]
  },
  {
   "cell_type": "code",
   "execution_count": 52,
   "id": "c21d5d14",
   "metadata": {},
   "outputs": [
    {
     "data": {
      "text/plain": [
       "array(True)"
      ]
     },
     "execution_count": 52,
     "metadata": {},
     "output_type": "execute_result"
    }
   ],
   "source": [
    "x = \"akash05\"\n",
    "np.char.isalnum(x)"
   ]
  },
  {
   "cell_type": "code",
   "execution_count": 42,
   "id": "c0b687cb",
   "metadata": {},
   "outputs": [
    {
     "data": {
      "text/plain": [
       "array(False)"
      ]
     },
     "execution_count": 42,
     "metadata": {},
     "output_type": "execute_result"
    }
   ],
   "source": [
    "np.char.isalpha(str2)"
   ]
  },
  {
   "cell_type": "code",
   "execution_count": 43,
   "id": "0629d1dc",
   "metadata": {},
   "outputs": [
    {
     "data": {
      "text/plain": [
       "array(True)"
      ]
     },
     "execution_count": 43,
     "metadata": {},
     "output_type": "execute_result"
    }
   ],
   "source": [
    "np.char.isspace(\" \")"
   ]
  },
  {
   "cell_type": "code",
   "execution_count": 44,
   "id": "49bbaa8d",
   "metadata": {},
   "outputs": [
    {
     "data": {
      "text/plain": [
       "array(True)"
      ]
     },
     "execution_count": 44,
     "metadata": {},
     "output_type": "execute_result"
    }
   ],
   "source": [
    "a = \"137498735\"\n",
    "np.char.isnumeric(a)"
   ]
  },
  {
   "cell_type": "code",
   "execution_count": 45,
   "id": "0e582159",
   "metadata": {},
   "outputs": [
    {
     "data": {
      "text/plain": [
       "array(True)"
      ]
     },
     "execution_count": 45,
     "metadata": {},
     "output_type": "execute_result"
    }
   ],
   "source": [
    "a = \"137498735\"\n",
    "np.char.isdigit(a)"
   ]
  },
  {
   "cell_type": "code",
   "execution_count": 54,
   "id": "48b3b2ac",
   "metadata": {},
   "outputs": [
    {
     "ename": "AttributeError",
     "evalue": "module 'numpy.core.defchararray' has no attribute 'i'",
     "output_type": "error",
     "traceback": [
      "\u001b[1;31m---------------------------------------------------------------------------\u001b[0m",
      "\u001b[1;31mAttributeError\u001b[0m                            Traceback (most recent call last)",
      "Input \u001b[1;32mIn [54]\u001b[0m, in \u001b[0;36m<cell line: 2>\u001b[1;34m()\u001b[0m\n\u001b[0;32m      1\u001b[0m a \u001b[38;5;241m=\u001b[39m \u001b[38;5;124m\"\u001b[39m\u001b[38;5;124m1374.98735\u001b[39m\u001b[38;5;124m\"\u001b[39m\n\u001b[1;32m----> 2\u001b[0m \u001b[43mnp\u001b[49m\u001b[38;5;241;43m.\u001b[39;49m\u001b[43mchar\u001b[49m\u001b[38;5;241;43m.\u001b[39;49m\u001b[43mi\u001b[49m(a)\n",
      "\u001b[1;31mAttributeError\u001b[0m: module 'numpy.core.defchararray' has no attribute 'i'"
     ]
    }
   ],
   "source": [
    "a = \"1374.98735\"\n",
    "np.char.isdeci(a)"
   ]
  },
  {
   "cell_type": "code",
   "execution_count": null,
   "id": "c55917ee",
   "metadata": {},
   "outputs": [],
   "source": []
  }
 ],
 "metadata": {
  "kernelspec": {
   "display_name": "Python 3 (ipykernel)",
   "language": "python",
   "name": "python3"
  },
  "language_info": {
   "codemirror_mode": {
    "name": "ipython",
    "version": 3
   },
   "file_extension": ".py",
   "mimetype": "text/x-python",
   "name": "python",
   "nbconvert_exporter": "python",
   "pygments_lexer": "ipython3",
   "version": "3.9.12"
  }
 },
 "nbformat": 4,
 "nbformat_minor": 5
}
